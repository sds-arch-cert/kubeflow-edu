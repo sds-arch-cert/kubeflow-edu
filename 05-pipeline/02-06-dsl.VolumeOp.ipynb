{
 "cells": [
  {
   "cell_type": "code",
   "execution_count": 1,
   "metadata": {
    "tags": []
   },
   "outputs": [],
   "source": [
    "python_code = '''\n",
    "import random\n",
    "result = 'heads' if random.randint(0,1) == 0 else 'tails' \n",
    "print(result)\n",
    "'''"
   ]
  },
  {
   "cell_type": "code",
   "execution_count": 2,
   "metadata": {
    "tags": []
   },
   "outputs": [],
   "source": [
    "import kfp\n",
    "from kfp import dsl\n",
    "\n",
    "@dsl.pipeline(\n",
    "    name='Volume pipeline', \n",
    "    description='A pipeline with volume.'\n",
    ")\n",
    "def volume_pipeline():\n",
    "    vop = dsl.VolumeOp(\n",
    "        name=\"my-pipeline-volume\",\n",
    "        resource_name=\"pipeline-pvc\",\n",
    "        modes=dsl.VOLUME_MODE_RWO,\n",
    "        size=\"100Mi\"\n",
    "    )\n",
    "\n",
    "    step1 = dsl.ContainerOp(\n",
    "        name='Flip coin',\n",
    "        image='python:alpine3.6',\n",
    "        command=['sh', '-c'],\n",
    "        arguments=[f'python -c \"{python_code}\" | tee /data/output'],\n",
    "        pvolumes={\"/data\": vop.volume}\n",
    "    )\n",
    "\n",
    "    step2 = dsl.ContainerOp(\n",
    "        name='Print',\n",
    "        image='alpine:3.6',\n",
    "        command=['cat', '/data/output'],\n",
    "        pvolumes={\"/data\": step1.pvolume}\n",
    "    )"
   ]
  },
  {
   "cell_type": "code",
   "execution_count": 3,
   "metadata": {
    "tags": []
   },
   "outputs": [
    {
     "name": "stderr",
     "output_type": "stream",
     "text": [
      "/opt/conda/lib/python3.8/site-packages/kfp/dsl/_container_op.py:1261: FutureWarning: Please create reusable components instead of constructing ContainerOp instances directly. Reusable components are shareable, portable and have compatibility and support guarantees. Please see the documentation: https://www.kubeflow.org/docs/pipelines/sdk/component-development/#writing-your-component-definition-file The components can be created manually (or, in case of python, using kfp.components.create_component_from_func or func_to_container_op) and then loaded using kfp.components.load_component_from_file, load_component_from_uri or load_component_from_text: https://kubeflow-pipelines.readthedocs.io/en/stable/source/kfp.components.html#kfp.components.load_component_from_file\n",
      "  warnings.warn(\n"
     ]
    },
    {
     "data": {
      "text/html": [
       "<a href=\"/pipeline/#/experiments/details/6ff776ff-dd72-4571-bc85-de32ac717ee6\" target=\"_blank\" >Experiment details</a>."
      ],
      "text/plain": [
       "<IPython.core.display.HTML object>"
      ]
     },
     "metadata": {},
     "output_type": "display_data"
    },
    {
     "data": {
      "text/html": [
       "<a href=\"/pipeline/#/runs/details/3df1ac56-0ef6-4c89-9934-9859127c596b\" target=\"_blank\" >Run details</a>."
      ],
      "text/plain": [
       "<IPython.core.display.HTML object>"
      ]
     },
     "metadata": {},
     "output_type": "display_data"
    }
   ],
   "source": [
    "pipelineGzFile = 'simple-flipcoin-06.zip'\n",
    "\n",
    "kfp.compiler.Compiler().compile(\n",
    "    volume_pipeline, \n",
    "    pipelineGzFile\n",
    ")\n",
    "\n",
    "client = kfp.Client()\n",
    "my_exp = client.create_experiment(\n",
    "    name='Simple FlipCoin'\n",
    ")\n",
    "my_run = client.run_pipeline(\n",
    "    my_exp.id, \n",
    "    'Volume pipeline',\n",
    "    pipelineGzFile\n",
    ")"
   ]
  },
  {
   "cell_type": "code",
   "execution_count": null,
   "metadata": {},
   "outputs": [],
   "source": []
  }
 ],
 "metadata": {
  "kernelspec": {
   "display_name": "Python 3",
   "language": "python",
   "name": "python3"
  },
  "kubeflow_notebook": {
   "docker_image": "reddiana/jupyterlab-kale:0.0.9",
   "experiment": {
    "id": "",
    "name": ""
   },
   "experiment_name": "",
   "katib_metadata": {
    "algorithm": {
     "algorithmName": "grid"
    },
    "maxFailedTrialCount": 3,
    "maxTrialCount": 12,
    "objective": {
     "objectiveMetricName": "",
     "type": "minimize"
    },
    "parallelTrialCount": 3,
    "parameters": []
   },
   "katib_run": false,
   "pipeline_description": "",
   "pipeline_name": "",
   "volumes": []
  },
  "language_info": {
   "codemirror_mode": {
    "name": "ipython",
    "version": 3
   },
   "file_extension": ".py",
   "mimetype": "text/x-python",
   "name": "python",
   "nbconvert_exporter": "python",
   "pygments_lexer": "ipython3",
   "version": "3.8.10"
  }
 },
 "nbformat": 4,
 "nbformat_minor": 4
}
