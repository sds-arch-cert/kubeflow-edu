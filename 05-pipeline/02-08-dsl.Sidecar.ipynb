{
 "cells": [
  {
   "cell_type": "code",
   "execution_count": 1,
   "metadata": {
    "tags": []
   },
   "outputs": [],
   "source": [
    "import kfp\n",
    "import kfp.dsl as dsl\n",
    "\n",
    "@dsl.pipeline(\n",
    "    name=\"pipeline_with_sidecar\", \n",
    "    description=\"A pipeline that demonstrates how to add a sidecar to an operation.\"\n",
    ")\n",
    "def pipeline_with_sidecar(sleep_sec: int = 30):\n",
    "\n",
    "    # sidecar with sevice that reply \"hello world\" to any GET request\n",
    "    echo = dsl.Sidecar(\n",
    "        name=\"echo\",\n",
    "        image=\"hashicorp/http-echo:latest\",\n",
    "        command=[\"/http-echo\"],\n",
    "        args=['-text=\"hello world\"'],\n",
    "    )\n",
    "\n",
    "    # container op with sidecar\n",
    "    op1 = dsl.ContainerOp(\n",
    "        name=\"download\",\n",
    "        image=\"busybox:latest\",\n",
    "        command=[\"sh\", \"-c\"],\n",
    "        arguments=[\n",
    "            \"sleep %s; wget localhost:5678 -O /tmp/results.txt\" % sleep_sec\n",
    "        ],  # sleep for X sec and call the sidecar and save results to output\n",
    "        sidecars=[echo],\n",
    "        file_outputs={\"downloaded\": \"/tmp/results.txt\"},\n",
    "    )\n",
    "\n",
    "    op2 = dsl.ContainerOp(\n",
    "        name=\"echo\",\n",
    "        image=\"library/bash\",\n",
    "        command=[\"sh\", \"-c\"],\n",
    "        arguments=[\"echo %s\" % op1.output],  # print out content of op1 output\n",
    "    )"
   ]
  },
  {
   "cell_type": "code",
   "execution_count": 2,
   "metadata": {
    "tags": []
   },
   "outputs": [
    {
     "name": "stderr",
     "output_type": "stream",
     "text": [
      "/opt/conda/lib/python3.8/site-packages/kfp/dsl/_container_op.py:1261: FutureWarning: Please create reusable components instead of constructing ContainerOp instances directly. Reusable components are shareable, portable and have compatibility and support guarantees. Please see the documentation: https://www.kubeflow.org/docs/pipelines/sdk/component-development/#writing-your-component-definition-file The components can be created manually (or, in case of python, using kfp.components.create_component_from_func or func_to_container_op) and then loaded using kfp.components.load_component_from_file, load_component_from_uri or load_component_from_text: https://kubeflow-pipelines.readthedocs.io/en/stable/source/kfp.components.html#kfp.components.load_component_from_file\n",
      "  warnings.warn(\n"
     ]
    },
    {
     "data": {
      "text/html": [
       "<a href=\"/pipeline/#/experiments/details/6ff776ff-dd72-4571-bc85-de32ac717ee6\" target=\"_blank\" >Experiment details</a>."
      ],
      "text/plain": [
       "<IPython.core.display.HTML object>"
      ]
     },
     "metadata": {},
     "output_type": "display_data"
    },
    {
     "data": {
      "text/html": [
       "<a href=\"/pipeline/#/runs/details/0c0c6caa-d259-4249-b837-38087d1f717a\" target=\"_blank\" >Run details</a>."
      ],
      "text/plain": [
       "<IPython.core.display.HTML object>"
      ]
     },
     "metadata": {},
     "output_type": "display_data"
    }
   ],
   "source": [
    "pipelineGzFile = 'simple-flipcoin-08.zip'\n",
    "\n",
    "kfp.compiler.Compiler().compile(\n",
    "    pipeline_with_sidecar, \n",
    "    pipelineGzFile\n",
    ")\n",
    "\n",
    "client = kfp.Client()\n",
    "my_exp = client.create_experiment(\n",
    "    name='Simple FlipCoin'\n",
    ")\n",
    "my_run = client.run_pipeline(\n",
    "    my_exp.id, \n",
    "    'Sample Sidecar',\n",
    "    pipelineGzFile\n",
    ")"
   ]
  },
  {
   "cell_type": "code",
   "execution_count": null,
   "metadata": {},
   "outputs": [],
   "source": []
  }
 ],
 "metadata": {
  "kernelspec": {
   "display_name": "Python 3",
   "language": "python",
   "name": "python3"
  },
  "kubeflow_notebook": {
   "docker_image": "reddiana/jupyterlab-kale:0.0.9",
   "experiment": {
    "id": "",
    "name": ""
   },
   "experiment_name": "",
   "katib_metadata": {
    "algorithm": {
     "algorithmName": "grid"
    },
    "maxFailedTrialCount": 3,
    "maxTrialCount": 12,
    "objective": {
     "objectiveMetricName": "",
     "type": "minimize"
    },
    "parallelTrialCount": 3,
    "parameters": []
   },
   "katib_run": false,
   "pipeline_description": "",
   "pipeline_name": "",
   "volumes": []
  },
  "language_info": {
   "codemirror_mode": {
    "name": "ipython",
    "version": 3
   },
   "file_extension": ".py",
   "mimetype": "text/x-python",
   "name": "python",
   "nbconvert_exporter": "python",
   "pygments_lexer": "ipython3",
   "version": "3.8.10"
  }
 },
 "nbformat": 4,
 "nbformat_minor": 4
}
