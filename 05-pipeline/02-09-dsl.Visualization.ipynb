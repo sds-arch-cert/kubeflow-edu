{
 "cells": [
  {
   "cell_type": "code",
   "execution_count": 1,
   "metadata": {
    "tags": []
   },
   "outputs": [],
   "source": [
    "# Copyright 2021 The Kubeflow Authors\n",
    "#\n",
    "# Licensed under the Apache License, Version 2.0 (the \"License\");\n",
    "# you may not use this file except in compliance with the License.\n",
    "# You may obtain a copy of the License at\n",
    "#\n",
    "#      http://www.apache.org/licenses/LICENSE-2.0\n",
    "#\n",
    "# Unless required by applicable law or agreed to in writing, software\n",
    "# distributed under the License is distributed on an \"AS IS\" BASIS,\n",
    "# WITHOUT WARRANTIES OR CONDITIONS OF ANY KIND, either express or implied.\n",
    "# See the License for the specific language governing permissions and\n",
    "# limitations under the License.\n",
    "import os\n",
    "\n",
    "from kfp.v2 import dsl\n",
    "from kfp.v2.dsl import (\n",
    "    component,\n",
    "    Output,\n",
    "    ClassificationMetrics,\n",
    "    Metrics,\n",
    "    HTML,\n",
    "    Markdown\n",
    ")\n",
    "\n",
    "# In tests, we install a KFP package from the PR under test. Users should not\n",
    "# normally need to specify `kfp_package_path` in their component definitions.\n",
    "_KFP_PACKAGE_PATH = os.getenv('KFP_PACKAGE_PATH')\n",
    "\n",
    "\n",
    "@component(\n",
    "    packages_to_install=['scikit-learn'],\n",
    "    base_image='python:3.9',\n",
    "    kfp_package_path=_KFP_PACKAGE_PATH,\n",
    ")\n",
    "def digit_classification(metrics: Output[Metrics]):\n",
    "    from sklearn import model_selection\n",
    "    from sklearn.linear_model import LogisticRegression\n",
    "    from sklearn import datasets\n",
    "    from sklearn.metrics import accuracy_score\n",
    "\n",
    "    # Load digits dataset\n",
    "    iris = datasets.load_iris()\n",
    "\n",
    "    # # Create feature matrix\n",
    "    X = iris.data\n",
    "\n",
    "    # Create target vector\n",
    "    y = iris.target\n",
    "\n",
    "    #test size\n",
    "    test_size = 0.33\n",
    "\n",
    "    seed = 7\n",
    "    #cross-validation settings\n",
    "    kfold = model_selection.KFold(n_splits=10, random_state=seed, shuffle=True)\n",
    "\n",
    "    #Model instance\n",
    "    model = LogisticRegression()\n",
    "    scoring = 'accuracy'\n",
    "    results = model_selection.cross_val_score(model, X, y, cv=kfold, scoring=scoring)\n",
    "\n",
    "    #split data\n",
    "    X_train, X_test, y_train, y_test = model_selection.train_test_split(X, y, test_size=test_size, random_state=seed)\n",
    "    #fit model\n",
    "    model.fit(X_train, y_train)\n",
    "\n",
    "    #accuracy on test set\n",
    "    result = model.score(X_test, y_test)\n",
    "    metrics.log_metric('accuracy', (result*100.0))\n",
    "\n",
    "@component(\n",
    "    packages_to_install=['scikit-learn'],\n",
    "    base_image='python:3.9',\n",
    "    kfp_package_path=_KFP_PACKAGE_PATH,\n",
    ")\n",
    "def wine_classification(metrics: Output[ClassificationMetrics]):\n",
    "    from sklearn.ensemble import RandomForestClassifier\n",
    "    from sklearn.metrics import roc_curve\n",
    "    from sklearn.datasets import load_wine\n",
    "    from sklearn.model_selection import train_test_split, cross_val_predict\n",
    "\n",
    "    X, y = load_wine(return_X_y=True)\n",
    "    # Binary classification problem for label 1.\n",
    "    y = y == 1\n",
    "\n",
    "    X_train, X_test, y_train, y_test = train_test_split(X, y, random_state=42)\n",
    "    rfc = RandomForestClassifier(n_estimators=10, random_state=42)\n",
    "    rfc.fit(X_train, y_train)\n",
    "    y_scores = cross_val_predict(rfc, X_train, y_train, cv=3, method='predict_proba')\n",
    "    y_predict = cross_val_predict(rfc, X_train, y_train, cv=3, method='predict')\n",
    "    fpr, tpr, thresholds = roc_curve(y_true=y_train, y_score=y_scores[:,1], pos_label=True)\n",
    "    metrics.log_roc_curve(fpr, tpr, thresholds)\n",
    "\n",
    "@component(\n",
    "    packages_to_install=['scikit-learn'],\n",
    "    base_image='python:3.9',\n",
    "    kfp_package_path=_KFP_PACKAGE_PATH,\n",
    ")\n",
    "def iris_sgdclassifier(test_samples_fraction: float, metrics: Output[ClassificationMetrics]):\n",
    "    from sklearn import datasets, model_selection\n",
    "    from sklearn.linear_model import SGDClassifier\n",
    "    from sklearn.metrics import confusion_matrix\n",
    "\n",
    "    iris_dataset = datasets.load_iris()\n",
    "    train_x, test_x, train_y, test_y = model_selection.train_test_split(\n",
    "        iris_dataset['data'], iris_dataset['target'], test_size=test_samples_fraction)\n",
    "\n",
    "\n",
    "    classifier = SGDClassifier()\n",
    "    classifier.fit(train_x, train_y)\n",
    "    predictions = model_selection.cross_val_predict(classifier, train_x, train_y, cv=3)\n",
    "    metrics.log_confusion_matrix(\n",
    "        ['Setosa', 'Versicolour', 'Virginica'],\n",
    "        confusion_matrix(train_y, predictions).tolist() # .tolist() to convert np array to list.\n",
    "    )\n",
    "\n",
    "@component(\n",
    "    kfp_package_path=_KFP_PACKAGE_PATH,\n",
    ")\n",
    "def html_visualization(html_artifact: Output[HTML]):\n",
    "    html_content = '<!DOCTYPE html><html><body><h1>Hello world</h1></body></html>'\n",
    "    with open(html_artifact.path, 'w') as f:\n",
    "        f.write(html_content)\n",
    "\n",
    "@component(\n",
    "    kfp_package_path=_KFP_PACKAGE_PATH,\n",
    ")\n",
    "def markdown_visualization(markdown_artifact: Output[Markdown]):\n",
    "    markdown_content = '## Hello world \\n\\n Markdown content'\n",
    "    with open(markdown_artifact.path, 'w') as f:\n",
    "        f.write(markdown_content)\n",
    "\n",
    "@dsl.pipeline(\n",
    "    name='metrics-visualization-pipeline')\n",
    "def metrics_visualization_pipeline():\n",
    "    wine_classification_op = wine_classification()\n",
    "    iris_sgdclassifier_op = iris_sgdclassifier(test_samples_fraction=0.3)\n",
    "    digit_classification_op = digit_classification()\n",
    "    html_visualization_op = html_visualization()\n",
    "    markdown_visualization_op = markdown_visualization()\n"
   ]
  },
  {
   "cell_type": "code",
   "execution_count": 2,
   "metadata": {
    "tags": []
   },
   "outputs": [
    {
     "name": "stderr",
     "output_type": "stream",
     "text": [
      "/opt/conda/lib/python3.8/site-packages/kfp/compiler/compiler.py:79: UserWarning: V2_COMPATIBLE execution mode is at Beta quality. Some pipeline features may not work as expected.\n",
      "  warnings.warn('V2_COMPATIBLE execution mode is at Beta quality.'\n"
     ]
    }
   ],
   "source": [
    "import kfp\n",
    "\n",
    "pipelineGzFile = 'simple-flipcoin-09.zip'\n",
    "\n",
    "kfp.compiler.Compiler(mode=kfp.dsl.PipelineExecutionMode.V2_COMPATIBLE).compile(\n",
    "    pipeline_func=metrics_visualization_pipeline,\n",
    "    package_path=pipelineGzFile)"
   ]
  },
  {
   "cell_type": "code",
   "execution_count": 3,
   "metadata": {},
   "outputs": [
    {
     "data": {
      "text/html": [
       "<a href=\"/pipeline/#/experiments/details/6ff776ff-dd72-4571-bc85-de32ac717ee6\" target=\"_blank\" >Experiment details</a>."
      ],
      "text/plain": [
       "<IPython.core.display.HTML object>"
      ]
     },
     "metadata": {},
     "output_type": "display_data"
    },
    {
     "data": {
      "text/html": [
       "<a href=\"/pipeline/#/runs/details/0bd8f534-bea6-401e-8495-f11461e104f6\" target=\"_blank\" >Run details</a>."
      ],
      "text/plain": [
       "<IPython.core.display.HTML object>"
      ]
     },
     "metadata": {},
     "output_type": "display_data"
    }
   ],
   "source": [
    "client = kfp.Client()\n",
    "my_exp = client.create_experiment(\n",
    "    name='Simple FlipCoin'\n",
    ")\n",
    "my_run = client.run_pipeline(\n",
    "    my_exp.id, \n",
    "    'metrics-visualization-pipeline', \n",
    "    pipelineGzFile\n",
    ")"
   ]
  },
  {
   "cell_type": "code",
   "execution_count": null,
   "metadata": {},
   "outputs": [],
   "source": []
  }
 ],
 "metadata": {
  "kernelspec": {
   "display_name": "Python 3",
   "language": "python",
   "name": "python3"
  },
  "kubeflow_notebook": {
   "docker_image": "reddiana/jupyterlab-kale:0.0.9",
   "experiment": {
    "id": "",
    "name": ""
   },
   "experiment_name": "",
   "katib_metadata": {
    "algorithm": {
     "algorithmName": "grid"
    },
    "maxFailedTrialCount": 3,
    "maxTrialCount": 12,
    "objective": {
     "objectiveMetricName": "",
     "type": "minimize"
    },
    "parallelTrialCount": 3,
    "parameters": []
   },
   "katib_run": false,
   "pipeline_description": "",
   "pipeline_name": "",
   "volumes": []
  },
  "language_info": {
   "codemirror_mode": {
    "name": "ipython",
    "version": 3
   },
   "file_extension": ".py",
   "mimetype": "text/x-python",
   "name": "python",
   "nbconvert_exporter": "python",
   "pygments_lexer": "ipython3",
   "version": "3.8.10"
  }
 },
 "nbformat": 4,
 "nbformat_minor": 4
}
