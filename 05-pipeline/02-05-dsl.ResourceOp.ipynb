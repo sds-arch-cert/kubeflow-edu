{
 "cells": [
  {
   "cell_type": "code",
   "execution_count": 1,
   "metadata": {
    "tags": []
   },
   "outputs": [],
   "source": [
    "import kfp\n",
    "from kfp import dsl\n",
    "import json"
   ]
  },
  {
   "cell_type": "code",
   "execution_count": 2,
   "metadata": {
    "tags": []
   },
   "outputs": [],
   "source": [
    "_job_manifest = '''\n",
    "{\n",
    "    \"apiVersion\": \"batch/v1\",\n",
    "    \"kind\": \"Job\",\n",
    "    \"metadata\": {\n",
    "        \"generateName\": \"kfp\"\n",
    "    },\n",
    "    \"spec\": {\n",
    "        \"template\": {\n",
    "            \"metadata\": {\n",
    "                \"name\": \"resource-pipeline\",\n",
    "                \"annotations\": {\n",
    "                    \"sidecar.istio.io/inject\": \"false\"\n",
    "                }\n",
    "            },\n",
    "            \"spec\": {\n",
    "                \"containers\": [{\n",
    "                    \"name\": \"mnist\",\n",
    "                    \"image\": \"katib/mxnet-mnist:v1beta1-2e27185\",\n",
    "                    \"command\": [\"python\", \"/opt/mxnet-mnist/mnist.py\"]\n",
    "                }],\n",
    "                \"restartPolicy\": \"Never\"\n",
    "            }\n",
    "        }   \n",
    "    }\n",
    "}\n",
    "'''"
   ]
  },
  {
   "cell_type": "code",
   "execution_count": 3,
   "metadata": {
    "tags": []
   },
   "outputs": [],
   "source": [
    "@dsl.pipeline(\n",
    "    name='Kubernetes Resource', \n",
    "    description='A pipeline with resource.'\n",
    ")\n",
    "def resource_pipeline():\n",
    "    op = dsl.ResourceOp(\n",
    "        name = 'resource-job',\n",
    "        k8s_resource = json.loads(_job_manifest),\n",
    "        action = 'create'\n",
    "    )"
   ]
  },
  {
   "cell_type": "code",
   "execution_count": 4,
   "metadata": {
    "tags": []
   },
   "outputs": [
    {
     "data": {
      "text/html": [
       "<a href=\"/pipeline/#/experiments/details/6ff776ff-dd72-4571-bc85-de32ac717ee6\" target=\"_blank\" >Experiment details</a>."
      ],
      "text/plain": [
       "<IPython.core.display.HTML object>"
      ]
     },
     "metadata": {},
     "output_type": "display_data"
    },
    {
     "data": {
      "text/html": [
       "<a href=\"/pipeline/#/runs/details/233aca98-a063-4635-9faa-7dbb6258c056\" target=\"_blank\" >Run details</a>."
      ],
      "text/plain": [
       "<IPython.core.display.HTML object>"
      ]
     },
     "metadata": {},
     "output_type": "display_data"
    }
   ],
   "source": [
    "pipelineGzFile = 'simple-flipcoin-05.zip'\n",
    "\n",
    "kfp.compiler.Compiler().compile(\n",
    "    resource_pipeline, \n",
    "    pipelineGzFile\n",
    ")\n",
    "\n",
    "client = kfp.Client()\n",
    "my_exp = client.create_experiment(\n",
    "    name='Simple FlipCoin'\n",
    ")\n",
    "my_run = client.run_pipeline(\n",
    "    my_exp.id, \n",
    "    'Resource pipeline',\n",
    "    pipelineGzFile\n",
    ")"
   ]
  },
  {
   "cell_type": "code",
   "execution_count": null,
   "metadata": {},
   "outputs": [],
   "source": []
  }
 ],
 "metadata": {
  "kernelspec": {
   "display_name": "Python 3",
   "language": "python",
   "name": "python3"
  },
  "kubeflow_notebook": {
   "autosnapshot": false,
   "docker_image": "reddiana/jupyterlab-kale:0.0.9",
   "experiment": {
    "id": "",
    "name": ""
   },
   "experiment_name": "",
   "katib_metadata": {
    "algorithm": {
     "algorithmName": "grid"
    },
    "maxFailedTrialCount": 3,
    "maxTrialCount": 12,
    "objective": {
     "objectiveMetricName": "",
     "type": "minimize"
    },
    "parallelTrialCount": 3,
    "parameters": []
   },
   "katib_run": false,
   "pipeline_description": "",
   "pipeline_name": "",
   "snapshot_volumes": false,
   "steps_defaults": [],
   "volumes": []
  },
  "language_info": {
   "codemirror_mode": {
    "name": "ipython",
    "version": 3
   },
   "file_extension": ".py",
   "mimetype": "text/x-python",
   "name": "python",
   "nbconvert_exporter": "python",
   "pygments_lexer": "ipython3",
   "version": "3.8.10"
  }
 },
 "nbformat": 4,
 "nbformat_minor": 4
}
