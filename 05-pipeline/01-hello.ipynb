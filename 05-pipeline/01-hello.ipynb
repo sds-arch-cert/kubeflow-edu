{
 "cells": [
  {
   "cell_type": "markdown",
   "metadata": {
    "tags": []
   },
   "source": [
    "# Pipeline SDK"
   ]
  },
  {
   "cell_type": "code",
   "execution_count": 1,
   "metadata": {
    "tags": []
   },
   "outputs": [],
   "source": [
    "import kfp\n",
    "\n",
    "@kfp.dsl.pipeline(\n",
    "    name='hello_my_first_pipeline', \n",
    "    description='mxnet mnist sample pipeline'\n",
    ")\n",
    "\n",
    "def hello_pipeline():\n",
    "    train_task = hello_component()\n",
    "\n",
    "@kfp.dsl.component\n",
    "def hello_component():\n",
    "    return kfp.dsl.ContainerOp(\n",
    "        name='my-ContainerOp',\n",
    "        # Feb 26, 2023 version\n",
    "        image='kubeflowkatib/mxnet-mnist:v1beta1-2e27185',\n",
    "        # required for emissary executor.\n",
    "        command=[\n",
    "            'python',\n",
    "            '/opt/mxnet-mnist/mnist.py'\n",
    "        ]\n",
    "    )"
   ]
  },
  {
   "cell_type": "markdown",
   "metadata": {
    "tags": []
   },
   "source": [
    "# Pipeline 컴파일"
   ]
  },
  {
   "cell_type": "code",
   "execution_count": 2,
   "metadata": {
    "tags": []
   },
   "outputs": [
    {
     "name": "stderr",
     "output_type": "stream",
     "text": [
      "/opt/conda/lib/python3.8/site-packages/kfp/dsl/_container_op.py:1261: FutureWarning: Please create reusable components instead of constructing ContainerOp instances directly. Reusable components are shareable, portable and have compatibility and support guarantees. Please see the documentation: https://www.kubeflow.org/docs/pipelines/sdk/component-development/#writing-your-component-definition-file The components can be created manually (or, in case of python, using kfp.components.create_component_from_func or func_to_container_op) and then loaded using kfp.components.load_component_from_file, load_component_from_uri or load_component_from_text: https://kubeflow-pipelines.readthedocs.io/en/stable/source/kfp.components.html#kfp.components.load_component_from_file\n",
      "  warnings.warn(\n"
     ]
    }
   ],
   "source": [
    "kfp.compiler.Compiler().compile(hello_pipeline, 'my_pipeline.zip')"
   ]
  },
  {
   "cell_type": "code",
   "execution_count": 3,
   "metadata": {
    "tags": []
   },
   "outputs": [
    {
     "name": "stdout",
     "output_type": "stream",
     "text": [
      "-rw-r--r-- 1 jovyan users 597 Mar 11 09:20 my_pipeline.zip\n"
     ]
    }
   ],
   "source": [
    "! ls -l my_pipeline.zip"
   ]
  },
  {
   "cell_type": "code",
   "execution_count": 4,
   "metadata": {
    "tags": []
   },
   "outputs": [
    {
     "name": "stdout",
     "output_type": "stream",
     "text": [
      "Archive:  my_pipeline.zip\n",
      "  Length      Date    Time    Name\n",
      "---------  ---------- -----   ----\n",
      "     1102  1980-01-01 00:00   pipeline.yaml\n",
      "---------                     -------\n",
      "     1102                     1 file\n"
     ]
    }
   ],
   "source": [
    "! unzip -l my_pipeline.zip"
   ]
  },
  {
   "cell_type": "code",
   "execution_count": 5,
   "metadata": {
    "tags": []
   },
   "outputs": [
    {
     "name": "stdout",
     "output_type": "stream",
     "text": [
      "apiVersion: argoproj.io/v1alpha1\n",
      "kind: Workflow\n",
      "metadata:\n",
      "  generateName: hello-my-first-pipeline-\n",
      "  annotations: {pipelines.kubeflow.org/kfp_sdk_version: 1.8.19, pipelines.kubeflow.org/pipeline_compilation_time: '2023-03-11T09:20:34.355858',\n",
      "    pipelines.kubeflow.org/pipeline_spec: '{\"description\": \"mxnet mnist sample pipeline\",\n",
      "      \"name\": \"hello_my_first_pipeline\"}'}\n",
      "  labels: {pipelines.kubeflow.org/kfp_sdk_version: 1.8.19}\n",
      "spec:\n",
      "  entrypoint: hello-my-first-pipeline\n",
      "  templates:\n",
      "  - name: hello-my-first-pipeline\n",
      "    dag:\n",
      "      tasks:\n",
      "      - {name: my-containerop, template: my-containerop}\n",
      "  - name: my-containerop\n",
      "    container:\n",
      "      command: [python, /opt/mxnet-mnist/mnist.py]\n",
      "      image: kubeflowkatib/mxnet-mnist:v1beta1-2e27185\n",
      "    metadata:\n",
      "      labels:\n",
      "        pipelines.kubeflow.org/kfp_sdk_version: 1.8.19\n",
      "        pipelines.kubeflow.org/pipeline-sdk-type: kfp\n",
      "        pipelines.kubeflow.org/enable_caching: \"true\"\n",
      "      annotations: {pipelines.kubeflow.org/component_spec: '{\"name\": \"Hello component\"}'}\n",
      "  arguments:\n",
      "    parameters: []\n",
      "  serviceAccountName: pipeline-runner\n"
     ]
    }
   ],
   "source": [
    "! unzip -p my_pipeline.zip"
   ]
  },
  {
   "cell_type": "markdown",
   "metadata": {
    "tags": []
   },
   "source": [
    "# Pipeline Experiment"
   ]
  },
  {
   "cell_type": "code",
   "execution_count": 6,
   "metadata": {
    "tags": []
   },
   "outputs": [
    {
     "data": {
      "text/html": [
       "<a href=\"/pipeline/#/experiments/details/1c176a8b-fca6-45a5-b855-84e241e10531\" target=\"_blank\" >Experiment details</a>."
      ],
      "text/plain": [
       "<IPython.core.display.HTML object>"
      ]
     },
     "metadata": {},
     "output_type": "display_data"
    },
    {
     "name": "stdout",
     "output_type": "stream",
     "text": [
      "{'created_at': datetime.datetime(2023, 3, 11, 7, 35, 31, tzinfo=tzlocal()),\n",
      " 'description': None,\n",
      " 'id': '1c176a8b-fca6-45a5-b855-84e241e10531',\n",
      " 'name': 'My first Experiment',\n",
      " 'resource_references': [{'key': {'id': 'pjt-lecture', 'type': 'NAMESPACE'},\n",
      "                          'name': None,\n",
      "                          'relationship': 'OWNER'}],\n",
      " 'storage_state': 'STORAGESTATE_AVAILABLE'}\n"
     ]
    }
   ],
   "source": [
    "client = kfp.Client()\n",
    "\n",
    "my_experiment = client.create_experiment(\n",
    "    name='My First Experiment' # Experiment name\n",
    ")\n",
    "\n",
    "print(my_experiment)"
   ]
  },
  {
   "cell_type": "markdown",
   "metadata": {
    "tags": []
   },
   "source": [
    "# Pipeline 실행"
   ]
  },
  {
   "cell_type": "code",
   "execution_count": 7,
   "metadata": {},
   "outputs": [
    {
     "data": {
      "text/html": [
       "<a href=\"/pipeline/#/runs/details/ed5a7411-43c1-4517-940b-158c20465153\" target=\"_blank\" >Run details</a>."
      ],
      "text/plain": [
       "<IPython.core.display.HTML object>"
      ]
     },
     "metadata": {},
     "output_type": "display_data"
    }
   ],
   "source": [
    "my_run = client.run_pipeline(\n",
    "    my_experiment.id, \n",
    "    'hello_my_pipeline', # Run name\n",
    "    'my_pipeline.zip'\n",
    ")"
   ]
  }
 ],
 "metadata": {
  "kernelspec": {
   "display_name": "Python 3",
   "language": "python",
   "name": "python3"
  },
  "kubeflow_notebook": {
   "autosnapshot": false,
   "docker_image": "reddiana/jupyterlab-kale:0.0.9",
   "experiment": {
    "id": "",
    "name": ""
   },
   "experiment_name": "",
   "katib_metadata": {
    "algorithm": {
     "algorithmName": "grid"
    },
    "maxFailedTrialCount": 3,
    "maxTrialCount": 12,
    "objective": {
     "objectiveMetricName": "",
     "type": "minimize"
    },
    "parallelTrialCount": 3,
    "parameters": []
   },
   "katib_run": false,
   "pipeline_description": "",
   "pipeline_name": "",
   "snapshot_volumes": false,
   "steps_defaults": [],
   "volumes": []
  },
  "language_info": {
   "codemirror_mode": {
    "name": "ipython",
    "version": 3
   },
   "file_extension": ".py",
   "mimetype": "text/x-python",
   "name": "python",
   "nbconvert_exporter": "python",
   "pygments_lexer": "ipython3",
   "version": "3.8.10"
  }
 },
 "nbformat": 4,
 "nbformat_minor": 4
}
