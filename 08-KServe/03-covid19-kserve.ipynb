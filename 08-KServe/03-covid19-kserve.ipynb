{
 "cells": [
  {
   "cell_type": "markdown",
   "metadata": {},
   "source": [
    "## Step1. Minio 사용을 위한 Secret과 ServiceAccount 생성"
   ]
  },
  {
   "cell_type": "code",
   "execution_count": 1,
   "metadata": {
    "tags": []
   },
   "outputs": [
    {
     "name": "stdout",
     "output_type": "stream",
     "text": [
      "secret/minio-secret unchanged\n",
      "serviceaccount/kserve-sa created\n"
     ]
    }
   ],
   "source": [
    "!kubectl apply -f ./yaml/secret.yaml"
   ]
  },
  {
   "cell_type": "code",
   "execution_count": 2,
   "metadata": {
    "tags": []
   },
   "outputs": [
    {
     "name": "stdout",
     "output_type": "stream",
     "text": [
      "apiVersion: v1\n",
      "kind: ServiceAccount\n",
      "metadata:\n",
      "  annotations:\n",
      "    kubectl.kubernetes.io/last-applied-configuration: |\n",
      "      {\"apiVersion\":\"v1\",\"kind\":\"ServiceAccount\",\"metadata\":{\"annotations\":{},\"name\":\"kserve-sa\",\"namespace\":\"pjt-lecture\"},\"secrets\":[{\"name\":\"minio-secret\"}]}\n",
      "  creationTimestamp: \"2023-03-13T16:50:25Z\"\n",
      "  name: kserve-sa\n",
      "  namespace: pjt-lecture\n",
      "  resourceVersion: \"42093581\"\n",
      "  uid: 51a431c7-6773-4e10-aff1-d76613db9b37\n",
      "secrets:\n",
      "- name: minio-secret\n",
      "- name: kserve-sa-token-qdhkj\n"
     ]
    }
   ],
   "source": [
    "!kubectl get sa/kserve-sa -o yaml"
   ]
  },
  {
   "cell_type": "code",
   "execution_count": 3,
   "metadata": {
    "tags": []
   },
   "outputs": [
    {
     "name": "stdout",
     "output_type": "stream",
     "text": [
      "apiVersion: v1\n",
      "data:\n",
      "  AWS_ACCESS_KEY_ID: bWluaW8=\n",
      "  AWS_SECRET_ACCESS_KEY: bWluaW8xMjM=\n",
      "kind: Secret\n",
      "metadata:\n",
      "  annotations:\n",
      "    kubectl.kubernetes.io/last-applied-configuration: |\n",
      "      {\"apiVersion\":\"v1\",\"data\":{\"AWS_ACCESS_KEY_ID\":\"bWluaW8=\",\"AWS_SECRET_ACCESS_KEY\":\"bWluaW8xMjM=\"},\"kind\":\"Secret\",\"metadata\":{\"annotations\":{\"serving.kserve.io/s3-endpoint\":\"minio-service.kubeflow:9000\",\"serving.kserve.io/s3-region\":\"us-east-1\",\"serving.kserve.io/s3-useanoncredential\":\"false\",\"serving.kserve.io/s3-usehttps\":\"0\",\"serving.kserve.io/s3-verifyssl\":\"0\"},\"name\":\"minio-secret\",\"namespace\":\"pjt-lecture\"}}\n",
      "    serving.kserve.io/s3-endpoint: minio-service.kubeflow:9000\n",
      "    serving.kserve.io/s3-region: us-east-1\n",
      "    serving.kserve.io/s3-useanoncredential: \"false\"\n",
      "    serving.kserve.io/s3-usehttps: \"0\"\n",
      "    serving.kserve.io/s3-verifyssl: \"0\"\n",
      "  creationTimestamp: \"2023-03-08T18:13:29Z\"\n",
      "  name: minio-secret\n",
      "  namespace: pjt-lecture\n",
      "  resourceVersion: \"30575655\"\n",
      "  uid: 9de7d7ef-3488-4356-bae5-c11814c3f861\n",
      "type: Opaque\n"
     ]
    }
   ],
   "source": [
    "!kubectl get secret/minio-secret  -o yaml"
   ]
  },
  {
   "cell_type": "markdown",
   "metadata": {},
   "source": [
    "## Step2. inference service yaml 수정\n",
    "저장된 모델 파일을 사용하도록 storage uri를 수정해주세요."
   ]
  },
  {
   "cell_type": "code",
   "execution_count": 8,
   "metadata": {
    "tags": []
   },
   "outputs": [
    {
     "name": "stdout",
     "output_type": "stream",
     "text": [
      "apiVersion: serving.kserve.io/v1beta1\n",
      "kind: InferenceService\n",
      "metadata:\n",
      "  name: covid-19                          # KFServing InferenceService 명\n",
      "spec:\n",
      "  predictor:\n",
      "    serviceAccountName: kserve-sa         # s3:// 레파지토리(Minio)를 사용하기 위해 이 Kserve InferenceService가 사용할 serviceAccount (Step1.에서 생성함)\n",
      "    tensorflow:\n",
      "      storageUri: 's3://{project-namespace}/covid-19/'  # 모델을 저장한 경로 s3://<bucket명>/<저장경로>\n",
      "      resources:\n",
      "        limits:\n",
      "          cpu: '1'\n",
      "          memory: 2Gi\n",
      "        requests:\n",
      "          cpu: 500m\n",
      "          memory: 1Gi"
     ]
    }
   ],
   "source": [
    "!cat ./yaml/inferenceservice.yaml"
   ]
  },
  {
   "cell_type": "code",
   "execution_count": 4,
   "metadata": {
    "tags": []
   },
   "outputs": [
    {
     "name": "stdout",
     "output_type": "stream",
     "text": [
      "inferenceservice.serving.kserve.io/covid-19 configured\n"
     ]
    }
   ],
   "source": [
    "!kubectl apply -f ./yaml/inferenceservice.yaml"
   ]
  },
  {
   "cell_type": "code",
   "execution_count": 6,
   "metadata": {
    "tags": []
   },
   "outputs": [
    {
     "name": "stdout",
     "output_type": "stream",
     "text": [
      "NAME       URL                                                READY   PREV   LATEST   PREVROLLEDOUTREVISION   LATESTREADYREVISION                AGE\n",
      "covid-19   http://covid-19.pjt-lecture.sds.swa-kubeflow.com   True           100                              covid-19-predictor-default-00004   4d22h\n"
     ]
    }
   ],
   "source": [
    "!kubectl get inferenceservice"
   ]
  },
  {
   "cell_type": "markdown",
   "metadata": {},
   "source": [
    "## Step3. Prediction Test\n",
    "Endpoint url을 KServe Model UI에서 확인하고, prediction api를 호출합니다."
   ]
  },
  {
   "cell_type": "code",
   "execution_count": 7,
   "metadata": {
    "tags": []
   },
   "outputs": [
    {
     "name": "stdout",
     "output_type": "stream",
     "text": [
      "{\n",
      "    \"predictions\": [[0.11127194, 0.160472363, 0.728255749]\n",
      "    ]\n",
      "}"
     ]
    }
   ],
   "source": [
    "!MODEL_NAME=covid-19; TEST_JSON=\"./image_data.json\"; \\\n",
    "curl http://covid-19.pjt-lecture.svc.cluster.local/v1/models/covid-19:predict -d @${TEST_JSON}"
   ]
  }
 ],
 "metadata": {
  "kernelspec": {
   "display_name": "Python 3",
   "language": "python",
   "name": "python3"
  },
  "language_info": {
   "codemirror_mode": {
    "name": "ipython",
    "version": 3
   },
   "file_extension": ".py",
   "mimetype": "text/x-python",
   "name": "python",
   "nbconvert_exporter": "python",
   "pygments_lexer": "ipython3",
   "version": "3.8.10"
  }
 },
 "nbformat": 4,
 "nbformat_minor": 4
}
